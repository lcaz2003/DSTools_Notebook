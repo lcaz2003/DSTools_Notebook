{
 "cells": [
  {
   "cell_type": "markdown",
   "id": "39f3456d-d754-459c-b476-b8c8dd5f318e",
   "metadata": {},
   "source": [
    "# Data Science Tools and Ecosystem"
   ]
  },
  {
   "cell_type": "markdown",
   "id": "65bbb5d3-f135-43e5-81f4-be27a85c337a",
   "metadata": {},
   "source": [
    "### In this notebook, Data Science Tools and Ecosystem are summarized."
   ]
  },
  {
   "cell_type": "markdown",
   "id": "82e76999-9dfb-44a3-98e5-4faceac385da",
   "metadata": {},
   "source": [
    "**Objectives:**\n",
    "* Popular language for Data Science \n",
    "* Popular development environments for Data Science\n",
    "* Libraries for Data Science"
   ]
  },
  {
   "cell_type": "markdown",
   "id": "0baf3fad-92e3-467d-b871-b852a2b93bbb",
   "metadata": {},
   "source": [
    "### Some of the popular languages that Data Scientists use are:\n",
    "1. Python\n",
    "2. R\n",
    "3. SQL\n",
    "4. Java"
   ]
  },
  {
   "cell_type": "markdown",
   "id": "930dcbb0-29c9-4b7c-93ef-dfab7c5544cb",
   "metadata": {},
   "source": [
    "### Some of the commonly used libraries used by Data Scientists include: \n",
    "1. Scientific Computing Libriaties in Python - NumPy\n",
    "2. Visulization Libraries in Python - Matplotlib\n",
    "3. Machine Learning Libraries in Python - Scikit-learn\n",
    "4. Deep Learning Libraries in Python - Keras"
   ]
  },
  {
   "cell_type": "markdown",
   "id": "7bba9eb1-86e8-4d50-b48f-b3c7435024a8",
   "metadata": {},
   "source": [
    "| Data Science Tools              | \n",
    "| -------------------------------------------| \n",
    "|  Data Management Tools  |  \n",
    "|  Data Integration and Transformation Tools | \n",
    "|  Data Visualization Tools |  "
   ]
  },
  {
   "cell_type": "markdown",
   "id": "025bd343-2953-4bb5-becb-d9cace508298",
   "metadata": {},
   "source": [
    "### Below are a few examples of evaluating arithmetic expressions in Python"
   ]
  },
  {
   "cell_type": "code",
   "execution_count": 13,
   "id": "a7503c57-9e68-4cdc-b271-084e14a9544e",
   "metadata": {},
   "outputs": [
    {
     "data": {
      "text/plain": [
       "17"
      ]
     },
     "execution_count": 13,
     "metadata": {},
     "output_type": "execute_result"
    }
   ],
   "source": [
    "(3*4)+5\n",
    "# This is a simple arithmetic expression to multiply then add integers"
   ]
  },
  {
   "cell_type": "code",
   "execution_count": 15,
   "id": "47072892-7622-4484-8341-5e7040983644",
   "metadata": {},
   "outputs": [
    {
     "data": {
      "text/plain": [
       "3.3333333333333335"
      ]
     },
     "execution_count": 15,
     "metadata": {},
     "output_type": "execute_result"
    }
   ],
   "source": [
    "200/60\n",
    "# This will convert 200 minutes to hours by dividing by 60"
   ]
  },
  {
   "cell_type": "markdown",
   "id": "f647e4e5-f12b-4081-888d-69720cd6246d",
   "metadata": {},
   "source": [
    "## Author:\n",
    "Alex"
   ]
  },
  {
   "cell_type": "code",
   "execution_count": null,
   "id": "fc063e07-d047-4e30-b017-40e560209979",
   "metadata": {},
   "outputs": [],
   "source": []
  }
 ],
 "metadata": {
  "kernelspec": {
   "display_name": "Python 3 (ipykernel)",
   "language": "python",
   "name": "python3"
  },
  "language_info": {
   "codemirror_mode": {
    "name": "ipython",
    "version": 3
   },
   "file_extension": ".py",
   "mimetype": "text/x-python",
   "name": "python",
   "nbconvert_exporter": "python",
   "pygments_lexer": "ipython3",
   "version": "3.11.9"
  }
 },
 "nbformat": 4,
 "nbformat_minor": 5
}
